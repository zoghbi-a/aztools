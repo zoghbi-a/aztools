{
 "cells": [
  {
   "cell_type": "markdown",
   "id": "accepting-editor",
   "metadata": {
    "cell_marker": "\"\"\""
   },
   "source": [
    "# Introducing aztools\n",
    "\n",
    "`aztools` is a collection of tools mostly in `python` I have been using over the years to analyze telescope X-ray data. I am putting these out so people my find them useful either as a whole as snippets of code. Also, they out here for the sake of the reproducibility of the published work.\n",
    "\n",
    "The following examples are meant to get you started."
   ]
  },
  {
   "cell_type": "code",
   "execution_count": null,
   "id": "actual-thirty",
   "metadata": {
    "tags": []
   },
   "outputs": [],
   "source": [
    "# setup the environment\n",
    "import numpy as np\n",
    "import matplotlib.pylab as plt\n",
    "\n",
    "import aztools as az\n",
    "\n",
    "# add plot settings\n",
    "az.misc.set_fancy_plot()"
   ]
  },
  {
   "cell_type": "markdown",
   "id": "coral-upper",
   "metadata": {
    "cell_marker": "\"\"\"",
    "lines_to_next_cell": 1
   },
   "source": [
    "### Simulting light curves using the `SimLC` class\n",
    "Using the simulation module includes:\n",
    "- Create a `SimLC` object, with seed if needed.\n",
    "- Define the shape of the power spectrum (e.g. `powerlaw`, `broken_powerlaw` etc)\n",
    "- call `simulate` to generate a random light curve given the defined power spectrum\n"
   ]
  },
  {
   "cell_type": "code",
   "execution_count": null,
   "id": "funded-protection",
   "metadata": {
    "lines_to_next_cell": 1,
    "tags": []
   },
   "outputs": [],
   "source": [
    "nlength = 2**16 # number of points desired\n",
    "dt = 1.0 # sampling time\n",
    "mu = 10.0 # light curve mean\n",
    "norm = 'rms' # the normalized of the psd\n",
    "\n",
    "sim = az.SimLC(seed=393)\n",
    "\n",
    "# for browen_powerlaw, the parameters are: [norm, index1, index2, break_frequency]\n",
    "sim.add_model('broken_powerlaw', [1e-5, -1, -2, 1e-3])\n",
    "\n",
    "sim.simulate(nlength, dt, mu, norm=norm)"
   ]
  },
  {
   "cell_type": "code",
   "execution_count": null,
   "id": "imported-uruguay",
   "metadata": {
    "tags": []
   },
   "outputs": [],
   "source": [
    "# plot the light curve #\n",
    "plt.plot(sim.lcurve[0]/1e3, sim.lcurve[1])\n",
    "plt.xlabel('time (ks)')\n",
    "plt.ylabel('count rate')\n",
    "plt.ylim([0, 30])"
   ]
  },
  {
   "cell_type": "markdown",
   "id": "6da9885e-062c-4b17-8ae2-3116d562418c",
   "metadata": {},
   "source": [
    "- We can add poisson noise for example"
   ]
  },
  {
   "cell_type": "code",
   "execution_count": null,
   "id": "11fb4d88-9a8a-44d0-913a-6a62980b81d3",
   "metadata": {
    "tags": []
   },
   "outputs": [],
   "source": [
    "y = sim.add_noise(sim.lcurve[1], deltat=dt, seed=345)\n",
    "plt.plot(sim.lcurve[0]/1e3, y, lw=0.5)\n",
    "plt.plot(sim.lcurve[0]/1e3, sim.lcurve[1])\n",
    "plt.xlabel('time (ks)')\n",
    "plt.ylabel('count rate')\n",
    "plt.ylim([0, 30])"
   ]
  },
  {
   "cell_type": "markdown",
   "id": "c98d4cd5-9144-452d-8df9-1c2c53a57a36",
   "metadata": {},
   "source": [
    "We can now use the `LCurve` functionality to calculate the power spectrum for example.\n",
    "\n",
    "First, we calculate the raw psd, then we bin it\n",
    "\n",
    "The binning is done by `az.LCurve.bin_psd`, which in turn calls `az.misc.group_array` of the frequency array, which takes a parameter `fqbin` that defines the type of binning used. Here, we bin by the number of frequency bin (`by_n`), starting with 10 frequencies per bin, and increasing it by a factor of 1.5 every time. See `az.misc.group_array` for details and more grouping options.\n",
    "\n",
    "`az.LCurve.bin_psd` returns 4 variables:\n",
    "- `freq`: the binned frequency array.\n",
    "- `psd`: the binned power spectrum.\n",
    "- `psde`: the estimated uncertainty on the binned power spectrum.\n",
    "- `desc`: a dict containing some diagnostic useful information about the binning.\n",
    "\n"
   ]
  },
  {
   "cell_type": "code",
   "execution_count": null,
   "id": "ca26e810-9141-4495-b88a-0836530855c1",
   "metadata": {
    "tags": []
   },
   "outputs": [],
   "source": [
    "# calculate the raw psd #\n",
    "freq, raw_psd, noise = az.LCurve.calculate_psd(y, dt, norm)\n",
    "\n",
    "# bin the psd, and we average in log-space #\n",
    "fqbin = {'by_n': [10, 1.5]}\n",
    "fq, psd, psde, desc = az.LCurve.bin_psd(freq, raw_psd, fqbin, noise=noise, logavg=True)\n"
   ]
  },
  {
   "cell_type": "code",
   "execution_count": null,
   "id": "e1d04a37-afbd-480c-b603-948309a5ab70",
   "metadata": {
    "tags": []
   },
   "outputs": [],
   "source": [
    "# plot the calculated psd.\n",
    "# also plot the model psd used to generate the light curve in the first place #\n",
    "plt.errorbar(fq, psd, psde, fmt='o', alpha=0.5)\n",
    "plt.plot(fq, desc['noise'], lw=0.5)\n",
    "plt.plot(sim.normalized_psd[0], sim.normalized_psd[1], lw=0.5)\n",
    "plt.xscale('log')\n",
    "plt.yscale('log')\n",
    "plt.xlim([1e-4, 0.5])\n",
    "plt.ylim([0.01, 1e2])\n",
    "plt.xlabel('Frequency (Hz)')\n",
    "plt.ylabel(r'PSD (Hz$^{-1})$')"
   ]
  },
  {
   "cell_type": "code",
   "execution_count": null,
   "id": "25db91f4-2f7d-4ded-bdd8-669ad77ab4ca",
   "metadata": {},
   "outputs": [],
   "source": []
  }
 ],
 "metadata": {
  "jupytext": {
   "cell_markers": "\"\"\""
  },
  "kernelspec": {
   "display_name": "Python 3 (ipykernel)",
   "language": "python",
   "name": "python3"
  },
  "language_info": {
   "codemirror_mode": {
    "name": "ipython",
    "version": 3
   },
   "file_extension": ".py",
   "mimetype": "text/x-python",
   "name": "python",
   "nbconvert_exporter": "python",
   "pygments_lexer": "ipython3",
   "version": "3.10.11"
  }
 },
 "nbformat": 4,
 "nbformat_minor": 5
}
